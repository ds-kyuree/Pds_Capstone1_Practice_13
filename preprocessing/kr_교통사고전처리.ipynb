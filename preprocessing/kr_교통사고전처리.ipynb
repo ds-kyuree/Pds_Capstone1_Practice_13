{
 "cells": [
  {
   "cell_type": "code",
   "execution_count": null,
   "metadata": {},
   "outputs": [],
   "source": [
    "#import data\n",
    "import pandas as pd\n",
    "\n",
    "# 엑셀 파일 불러오기\n",
    "excel_path1 = '/Users/kyuree/Desktop/pds_capstone1/dataset/accidentInfoList.xlsx'\n",
    "xls1 = pd.ExcelFile(excel_path1)\n",
    "\n",
    "# 각 시트를 데이터프레임으로 읽어와 리스트에 저장\n",
    "dfs1 = [pd.read_excel(xls1, sheet_name=sheet_name) for sheet_name in xls1.sheet_names]\n",
    "\n",
    "# 시트별 데이터프레임을 행 기준으로 통합\n",
    "accident_origin = pd.concat(dfs1, axis=0, ignore_index=True)\n",
    "\n",
    "# 결과 출력\n",
    "accident_origin"
   ]
  },
  {
   "cell_type": "code",
   "execution_count": null,
   "metadata": {},
   "outputs": [],
   "source": [
    "#1. 필요한 컬럼만 필터링 \n",
    "''' \n",
    "'사고일시', '시군구', '사고내용', '사망자수', '중상자수', '경상자수', '부상신고자수', '사고유형','법규위반','도로형태', '가해운전자 상해정도','피해운전자 상해정도'\n",
    "'''\n",
    "filtered_accident = accident_origin[['사고일시', '시군구', '사고내용', '사망자수', '중상자수', '경상자수', '부상신고자수', '사고유형','법규위반','도로형태', '가해운전자 상해정도','피해운전자 상해정도']]\n",
    "filtered_accident"
   ]
  },
  {
   "cell_type": "code",
   "execution_count": null,
   "metadata": {},
   "outputs": [],
   "source": [
    "#사고일시 -> 사고발생년도 / 월 / 일 / 시간으로 각각 구분하는 컬럼으로 재구성\n",
    "\n",
    "filtered_accident['사고일시'] = filtered_accident['사고일시'].str.replace(' ', '') # 띄어쓰기 제거\n",
    "\n",
    "for i in range(len(filtered_accident)):\n",
    "    if len(filtered_accident.loc[i,'사고일시']) ==12:\n",
    "        filtered_accident.loc[i,'사고발생_년도'] = filtered_accident.loc[i, '사고일시'][:5]\n",
    "        filtered_accident.loc[i,'사고발생_월일'] = filtered_accident.loc[i, '사고일시'][5:9]\n",
    "        filtered_accident.loc[i,'사고발생_시간'] = filtered_accident.loc[i, '사고일시'][9:]\n",
    "    elif len(filtered_accident.loc[i,'사고일시']) ==13:\n",
    "        filtered_accident.loc[i,'사고발생_년도'] = filtered_accident.loc[i, '사고일시'][:5]\n",
    "        filtered_accident.loc[i,'사고발생_월일'] = filtered_accident.loc[i, '사고일시'][5:10]\n",
    "        filtered_accident.loc[i,'사고발생_시간'] = filtered_accident.loc[i, '사고일시'][10:]\n",
    "    else:\n",
    "        filtered_accident.loc[i,'사고발생_년도'] = filtered_accident.loc[i, '사고일시'][:5]\n",
    "        filtered_accident.loc[i,'사고발생_월일'] = filtered_accident.loc[i, '사고일시'][5:11]\n",
    "        filtered_accident.loc[i,'사고발생_시간'] = filtered_accident.loc[i, '사고일시'][11:]\n",
    "filtered_accident"
   ]
  },
  {
   "cell_type": "code",
   "execution_count": null,
   "metadata": {},
   "outputs": [],
   "source": [
    "#확인\n",
    "print(filtered_accident['사고발생_년도'].value_counts())\n",
    "print(filtered_accident['사고발생_월일'].value_counts())\n",
    "print(filtered_accident['사고발생_시간'].value_counts())"
   ]
  },
  {
   "cell_type": "code",
   "execution_count": null,
   "metadata": {},
   "outputs": [],
   "source": [
    "#시군구 -> 서울특별시 노원구 / **동 으로 구분하는 컬럼 생성\n",
    "filtered_accident['시군구'].value_counts()\n",
    "\n",
    "for i in range(len(filtered_accident)):\n",
    "    filtered_accident.loc[i,'행정동'] = filtered_accident.loc[i,'시군구'][10:]\n",
    "filtered_accident[['시군구','행정동']]"
   ]
  },
  {
   "cell_type": "code",
   "execution_count": null,
   "metadata": {},
   "outputs": [],
   "source": [
    "#사고유형 -> 차대사람 / 세부사고유형 -> 횡단중으로 컬럼 분리\n",
    "filtered_accident['사고유형'].value_counts()\n",
    "\n",
    "for i in range(len(filtered_accident)):\n",
    "    filtered_accident.loc[i,'사고세부유형'] = filtered_accident.loc[i,'사고유형'][7:]\n",
    "filtered_accident[['사고유형','사고세부유형']]"
   ]
  },
  {
   "cell_type": "code",
   "execution_count": null,
   "metadata": {},
   "outputs": [],
   "source": [
    "#널값 확인\n",
    "print(filtered_accident.isnull().sum())\n",
    "print(filtered_accident['피해운전자 상해정도'].value_counts())"
   ]
  },
  {
   "cell_type": "code",
   "execution_count": null,
   "metadata": {},
   "outputs": [],
   "source": [
    "#도로형태 -> 도로형태(단일로) / 세부도로형태(기타)로 분리, 큰도로형태에 도로형태 넣음\n",
    "for i in range(len(filtered_accident)):\n",
    "    if filtered_accident.loc[i,'도로형태'][:2]=='기타':\n",
    "        filtered_accident.loc[i,'세부도로형태'] = filtered_accident.loc[i,'도로형태'][5:]\n",
    "        filtered_accident.loc[i,'큰도로형태'] = filtered_accident.loc[i,'도로형태'][:2]\n",
    "    # elif len(filtered_accident.loc[i,'도로형태'][:3]) ==3:\n",
    "    else:\n",
    "        filtered_accident.loc[i,'세부도로형태'] = filtered_accident.loc[i,'도로형태'][6:]\n",
    "        filtered_accident.loc[i,'큰도로형태'] = filtered_accident.loc[i,'도로형태'][:3]\n",
    "filtered_accident[['도로형태','큰도로형태','세부도로형태']]"
   ]
  },
  {
   "cell_type": "code",
   "execution_count": null,
   "metadata": {},
   "outputs": [],
   "source": [
    "#최종 전처리된 교통사고 데이터\n",
    "res_accident = filtered_accident[['사고발생_년도','사고발생_월일','사고발생_시간','행정동','사고내용','사망자수','중상자수', '경상자수', '부상신고자수','사고세부유형', '법규위반',\n",
    "       '큰도로형태','세부도로형태', '가해운전자 상해정도', '피해운전자 상해정도']]\n",
    "res_accident"
   ]
  },
  {
   "cell_type": "code",
   "execution_count": null,
   "metadata": {},
   "outputs": [],
   "source": [
    "# 데이터프레임을 CSV 파일로 저장\n",
    "res_accident.to_csv('kr_교통사고데이터_전처리.csv', index=False)"
   ]
  }
 ],
 "metadata": {
  "language_info": {
   "name": "python"
  }
 },
 "nbformat": 4,
 "nbformat_minor": 2
}
