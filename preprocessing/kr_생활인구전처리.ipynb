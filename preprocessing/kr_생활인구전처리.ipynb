{
 "cells": [
  {
   "cell_type": "code",
   "execution_count": null,
   "metadata": {},
   "outputs": [],
   "source": [
    "import pandas as pd\n",
    "\n",
    "pe_2022 = pd.read_csv('/Users/kyuree/Desktop/pds_capstone1/dataset/생활인구2022.csv',header=1)\n",
    "\n",
    "#남녀+연령로 구분되어있는 컬럼말고 자치구 코드, 총생활인구수, 시간대, 날짜 컬럼만 가져오기\n",
    "pe_2022 = pe_2022.iloc[:, :4]\n",
    "pe_2022"
   ]
  },
  {
   "cell_type": "code",
   "execution_count": null,
   "metadata": {},
   "outputs": [],
   "source": [
    "#인코딩 오류로 인한 컬럼 재부여\n",
    "# pe_cols = ['기준일ID','시간대구분','자치구코드','총생활인구수','']\n",
    "pe_2022.columns= ['기준일ID','시간대구분','자치구코드','총생활인구수']\n",
    "pe_2022"
   ]
  },
  {
   "cell_type": "code",
   "execution_count": null,
   "metadata": {},
   "outputs": [],
   "source": [
    "# 1. 야간시간대 22:00 ~ 06:00만 필터링, 남녀+연령로 구분되어있는 컬럼말고 자치구 코드, 총생활인구수, 시간대, 날짜 컬럼만 가져오기\n",
    "# pe_2022['시간대구분'].unique()\n",
    "night= [22,23,0,1,2,3,4,5,6]\n",
    "pe_2022_night = pe_2022[pe_2022['시간대구분'].isin(night)][['기준일ID','시간대구분','자치구코드','총생활인구수']]\n",
    "pe_2022_night['시간대구분'].unique()"
   ]
  },
  {
   "cell_type": "code",
   "execution_count": null,
   "metadata": {},
   "outputs": [],
   "source": [
    "#2.자치구코드 -> 자치구명으로 값 변환\n",
    "pe_2022_night['자치구코드'].unique()"
   ]
  },
  {
   "cell_type": "code",
   "execution_count": null,
   "metadata": {},
   "outputs": [],
   "source": [
    "gu_code = pd.read_excel('/Users/kyuree/Desktop/pds_capstone1/dataset/행정동코드_매핑정보_20200325 .xlsx',sheet_name='유입지코드')\n",
    "gu_code=gu_code[gu_code['RESD_DO_NM']=='서울'].iloc[:,[0,2]]\n",
    "gu_code.columns=['자치구코드','자치구명']\n",
    "gu_code"
   ]
  },
  {
   "cell_type": "code",
   "execution_count": null,
   "metadata": {},
   "outputs": [],
   "source": [
    "#매핑하여 '자치구명' 컬럼 생성\n",
    "pe_2022_night= pd.merge(pe_2022_night, gu_code[['자치구코드', '자치구명']], how='left', on='자치구코드')\n",
    "pe_2022_night"
   ]
  },
  {
   "cell_type": "code",
   "execution_count": null,
   "metadata": {},
   "outputs": [],
   "source": [
    "#3. 기준일Id -> 년/ 월 /일로 구분하는 컬럼 생성\n",
    "pe_2022_night['기준일ID']=pe_2022_night['기준일ID'].astype(str)\n",
    "\n",
    "for i in range(len(pe_2022_night)):\n",
    "    pe_2022_night.loc[i,'년도'] = pe_2022_night.loc[i,'기준일ID'][:4]\n",
    "    pe_2022_night.loc[i,'월'] = pe_2022_night.loc[i,'기준일ID'][4:6]\n",
    "    pe_2022_night.loc[i,'일'] = pe_2022_night.loc[i,'기준일ID'][6:]\n",
    "pe_2022_night"
   ]
  },
  {
   "cell_type": "code",
   "execution_count": null,
   "metadata": {},
   "outputs": [],
   "source": [
    "#전처리된 최종 파일 csv로 저장\n",
    "res_pe_2022_night = pe_2022_night[['년도','월','일','자치구명','시간대구분','총생활인구수']]\n",
    "res_pe_2022_night\n",
    "\n",
    "res_pe_2022_night.to_csv('kr_생활인구2022데이터_전처리.csv', index=False)"
   ]
  }
 ],
 "metadata": {
  "language_info": {
   "name": "python"
  }
 },
 "nbformat": 4,
 "nbformat_minor": 2
}
